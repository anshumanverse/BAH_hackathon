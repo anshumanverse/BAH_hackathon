{
  "nbformat": 4,
  "nbformat_minor": 0,
  "metadata": {
    "colab": {
      "provenance": [],
      "gpuType": "T4",
      "authorship_tag": "ABX9TyOsON25hWFYRe6Bqe+tB+Ko",
      "include_colab_link": true
    },
    "kernelspec": {
      "name": "python3",
      "display_name": "Python 3"
    },
    "language_info": {
      "name": "python"
    },
    "accelerator": "GPU"
  },
  "cells": [
    {
      "cell_type": "markdown",
      "metadata": {
        "id": "view-in-github",
        "colab_type": "text"
      },
      "source": [
        "<a href=\"https://colab.research.google.com/github/anshumanverse/BAH_hackathon/blob/main/Untitled9.ipynb\" target=\"_parent\"><img src=\"https://colab.research.google.com/assets/colab-badge.svg\" alt=\"Open In Colab\"/></a>"
      ]
    },
    {
      "cell_type": "code",
      "execution_count": 5,
      "metadata": {
        "id": "wU6QP9JfM87W"
      },
      "outputs": [],
      "source": [
        "!mkdir -p ~/.kaggle\n",
        "!cp kaggle.json ~/.kaggle/\n"
      ]
    },
    {
      "cell_type": "code",
      "source": [
        "!kaggle datasets download -d balraj98/deepglobe-land-cover-classification-dataset"
      ],
      "metadata": {
        "colab": {
          "base_uri": "https://localhost:8080/"
        },
        "id": "QtKVbm6WOTGp",
        "outputId": "b3df38bc-82ed-4568-e519-d5d2355a442e"
      },
      "execution_count": 6,
      "outputs": [
        {
          "output_type": "stream",
          "name": "stdout",
          "text": [
            "Warning: Your Kaggle API key is readable by other users on this system! To fix this, you can run 'chmod 600 /root/.kaggle/kaggle.json'\n",
            "Dataset URL: https://www.kaggle.com/datasets/balraj98/deepglobe-land-cover-classification-dataset\n",
            "License(s): other\n",
            "Downloading deepglobe-land-cover-classification-dataset.zip to /content\n",
            "... resuming from 2733637632 bytes (208618122 bytes left) ...\n",
            "100% 2.74G/2.74G [00:06<00:00, 40.1MB/s]\n",
            "100% 2.74G/2.74G [00:06<00:00, 33.4MB/s]\n"
          ]
        }
      ]
    },
    {
      "cell_type": "code",
      "source": [
        "import zipfile\n",
        "zip_ref = zipfile.ZipFile('/content/deepglobe-land-cover-classification-dataset.zip', 'r')\n",
        "zip_ref.extractall('/content')\n",
        "zip_ref.close()"
      ],
      "metadata": {
        "id": "GZpwhz5FPz9A"
      },
      "execution_count": 7,
      "outputs": []
    },
    {
      "cell_type": "code",
      "source": [
        "import os\n",
        "import shutil\n",
        "\n",
        "# Define paths\n",
        "data_dir = '/content/train'\n",
        "sat_image_dir = '/content/sat'\n",
        "mask_image_dir = '/content/mask'\n",
        "\n",
        "# Create directories if they don't exist\n",
        "os.makedirs(sat_image_dir, exist_ok=True)\n",
        "os.makedirs(mask_image_dir, exist_ok=True)\n",
        "\n",
        "# Move files to respective directories\n",
        "for filename in os.listdir(data_dir):\n",
        "    if filename.endswith('_sat.jpg'):\n",
        "        shutil.move(os.path.join(data_dir, filename), os.path.join(sat_image_dir, filename))\n",
        "    elif filename.endswith('_mask.png'):\n",
        "        shutil.move(os.path.join(data_dir, filename), os.path.join(mask_image_dir, filename))\n"
      ],
      "metadata": {
        "id": "wrD3nlraVB2X"
      },
      "execution_count": 8,
      "outputs": []
    },
    {
      "cell_type": "code",
      "source": [
        "sat_image_dir='/content/sat'\n",
        "mask_image_dir='/content/mask'"
      ],
      "metadata": {
        "id": "WHAGIq2Le7mT"
      },
      "execution_count": 9,
      "outputs": []
    },
    {
      "cell_type": "code",
      "source": [
        "import tensorflow as tf\n"
      ],
      "metadata": {
        "id": "yzMXn8arfND3"
      },
      "execution_count": 10,
      "outputs": []
    },
    {
      "cell_type": "code",
      "source": [
        "import tensorflow as tf\n",
        "import numpy as np\n",
        "import matplotlib.pyplot as plt\n",
        "import cv2\n",
        "from tensorflow.keras import layers, Model"
      ],
      "metadata": {
        "id": "VmSQ6up-hdhO"
      },
      "execution_count": 11,
      "outputs": []
    },
    {
      "cell_type": "code",
      "source": [
        "def load_image(image_path, target_size=(256, 256)):\n",
        "    image = tf.io.read_file(image_path)\n",
        "    image = tf.image.decode_jpeg(image, channels=3)\n",
        "    image = tf.image.resize(image, target_size)\n",
        "    image = tf.cast(image, tf.float32) / 255.0\n",
        "    return image"
      ],
      "metadata": {
        "id": "e9Le0RfYf0VQ"
      },
      "execution_count": 12,
      "outputs": []
    },
    {
      "cell_type": "code",
      "source": [
        "\n",
        "def load_mask(mask_path, target_size=(256, 256)):\n",
        "    mask = tf.io.read_file(mask_path)\n",
        "    mask = tf.image.decode_png(mask, channels=1)\n",
        "    mask = tf.image.resize(mask, target_size)\n",
        "    mask = tf.cast(mask, tf.float32) / 255.0\n",
        "    return mask"
      ],
      "metadata": {
        "id": "d3HJwZ7wgSoV"
      },
      "execution_count": 13,
      "outputs": []
    },
    {
      "cell_type": "code",
      "source": [
        "def load_image_and_mask(image_path, mask_path, target_size=(256, 256)):\n",
        "    image = load_image(image_path, target_size)\n",
        "    mask = load_mask(mask_path, target_size)\n",
        "    return image, mask\n"
      ],
      "metadata": {
        "id": "cxty_jfggdjG"
      },
      "execution_count": 14,
      "outputs": []
    },
    {
      "cell_type": "code",
      "source": [
        "def create_dataset(image_dir, mask_dir, batch_size):\n",
        "    image_paths = sorted([os.path.join(image_dir, f) for f in os.listdir(image_dir) if f.endswith('_sat.jpg')])\n",
        "    mask_paths = sorted([os.path.join(mask_dir, f) for f in os.listdir(mask_dir) if f.endswith('_mask.png')])\n",
        "\n",
        "    # Ensure that the number of images and masks match\n",
        "    assert len(image_paths) == len(mask_paths), \"Mismatch between number of images and masks\"\n",
        "\n",
        "    dataset = tf.data.Dataset.from_tensor_slices((image_paths, mask_paths))\n",
        "    dataset = dataset.map(lambda x, y: load_image_and_mask(x, y), num_parallel_calls=tf.data.experimental.AUTOTUNE)\n",
        "    dataset = dataset.shuffle(buffer_size=100)\n",
        "    dataset = dataset.batch(batch_size)\n",
        "    dataset = dataset.prefetch(buffer_size=tf.data.experimental.AUTOTUNE)\n",
        "    return dataset\n"
      ],
      "metadata": {
        "id": "i_zchxmteDk3"
      },
      "execution_count": 15,
      "outputs": []
    },
    {
      "cell_type": "code",
      "source": [
        "\n",
        "batch_size = 16\n",
        "train_dataset = create_dataset(sat_image_dir, mask_image_dir, batch_size)"
      ],
      "metadata": {
        "id": "NuiSupBignVP"
      },
      "execution_count": 16,
      "outputs": []
    },
    {
      "cell_type": "code",
      "source": [
        "def double_conv_block(x, filters):\n",
        "    x = layers.Conv2D(filters, 3, padding='same', activation='relu')(x)\n",
        "    x = layers.Conv2D(filters, 3, padding='same', activation='relu')(x)\n",
        "    return x"
      ],
      "metadata": {
        "id": "sLc6l-vXgyAI"
      },
      "execution_count": 17,
      "outputs": []
    },
    {
      "cell_type": "code",
      "source": [
        "def downsample_block(x, filters):\n",
        "    f = double_conv_block(x, filters)\n",
        "    p = layers.MaxPooling2D(2)(f)\n",
        "    return f, p\n",
        "\n"
      ],
      "metadata": {
        "id": "lwridNnRg1R1"
      },
      "execution_count": 18,
      "outputs": []
    },
    {
      "cell_type": "code",
      "source": [
        "def upsample_block(x, conv_features, filters):\n",
        "    x = layers.Conv2DTranspose(filters, 3, 2, padding='same')(x)\n",
        "    x = layers.concatenate([x, conv_features])\n",
        "    x = double_conv_block(x, filters)\n",
        "    return x"
      ],
      "metadata": {
        "id": "JaroI9zTg5Id"
      },
      "execution_count": 19,
      "outputs": []
    },
    {
      "cell_type": "code",
      "source": [
        "def build_unet(input_shape):\n",
        "    inputs = layers.Input(shape=input_shape)\n",
        "\n",
        "    # Encoder\n",
        "    f1, p1 = downsample_block(inputs, 64)\n",
        "    f2, p2 = downsample_block(p1, 128)\n",
        "    f3, p3 = downsample_block(p2, 256)\n",
        "    f4, p4 = downsample_block(p3, 512)\n",
        "\n",
        "    bottleneck = double_conv_block(p4, 1024)\n",
        "\n",
        "    # Decoder\n",
        "    u1 = upsample_block(bottleneck, f4, 512)\n",
        "    u2 = upsample_block(u1, f3, 256)\n",
        "    u3 = upsample_block(u2, f2, 128)\n",
        "    u4 = upsample_block(u3, f1, 64)\n",
        "\n",
        "    outputs = layers.Conv2D(1, 1, padding='same', activation='sigmoid')(u4)\n",
        "\n",
        "    model = Model(inputs, outputs)\n",
        "    return model"
      ],
      "metadata": {
        "id": "JJVYPjl1g_Q2"
      },
      "execution_count": 20,
      "outputs": []
    },
    {
      "cell_type": "code",
      "source": [
        "input_shape = (256, 256, 3)\n",
        "model = build_unet(input_shape)\n",
        "model.compile(optimizer='adam', loss='binary_crossentropy', metrics=['accuracy'])\n",
        "model.summary()"
      ],
      "metadata": {
        "colab": {
          "base_uri": "https://localhost:8080/"
        },
        "id": "m902U8SlhEAW",
        "outputId": "9ec8ae05-5ebd-4b15-8018-f8fbde441635"
      },
      "execution_count": 21,
      "outputs": [
        {
          "output_type": "stream",
          "name": "stdout",
          "text": [
            "Model: \"model\"\n",
            "__________________________________________________________________________________________________\n",
            " Layer (type)                Output Shape                 Param #   Connected to                  \n",
            "==================================================================================================\n",
            " input_1 (InputLayer)        [(None, 256, 256, 3)]        0         []                            \n",
            "                                                                                                  \n",
            " conv2d (Conv2D)             (None, 256, 256, 64)         1792      ['input_1[0][0]']             \n",
            "                                                                                                  \n",
            " conv2d_1 (Conv2D)           (None, 256, 256, 64)         36928     ['conv2d[0][0]']              \n",
            "                                                                                                  \n",
            " max_pooling2d (MaxPooling2  (None, 128, 128, 64)         0         ['conv2d_1[0][0]']            \n",
            " D)                                                                                               \n",
            "                                                                                                  \n",
            " conv2d_2 (Conv2D)           (None, 128, 128, 128)        73856     ['max_pooling2d[0][0]']       \n",
            "                                                                                                  \n",
            " conv2d_3 (Conv2D)           (None, 128, 128, 128)        147584    ['conv2d_2[0][0]']            \n",
            "                                                                                                  \n",
            " max_pooling2d_1 (MaxPoolin  (None, 64, 64, 128)          0         ['conv2d_3[0][0]']            \n",
            " g2D)                                                                                             \n",
            "                                                                                                  \n",
            " conv2d_4 (Conv2D)           (None, 64, 64, 256)          295168    ['max_pooling2d_1[0][0]']     \n",
            "                                                                                                  \n",
            " conv2d_5 (Conv2D)           (None, 64, 64, 256)          590080    ['conv2d_4[0][0]']            \n",
            "                                                                                                  \n",
            " max_pooling2d_2 (MaxPoolin  (None, 32, 32, 256)          0         ['conv2d_5[0][0]']            \n",
            " g2D)                                                                                             \n",
            "                                                                                                  \n",
            " conv2d_6 (Conv2D)           (None, 32, 32, 512)          1180160   ['max_pooling2d_2[0][0]']     \n",
            "                                                                                                  \n",
            " conv2d_7 (Conv2D)           (None, 32, 32, 512)          2359808   ['conv2d_6[0][0]']            \n",
            "                                                                                                  \n",
            " max_pooling2d_3 (MaxPoolin  (None, 16, 16, 512)          0         ['conv2d_7[0][0]']            \n",
            " g2D)                                                                                             \n",
            "                                                                                                  \n",
            " conv2d_8 (Conv2D)           (None, 16, 16, 1024)         4719616   ['max_pooling2d_3[0][0]']     \n",
            "                                                                                                  \n",
            " conv2d_9 (Conv2D)           (None, 16, 16, 1024)         9438208   ['conv2d_8[0][0]']            \n",
            "                                                                                                  \n",
            " conv2d_transpose (Conv2DTr  (None, 32, 32, 512)          4719104   ['conv2d_9[0][0]']            \n",
            " anspose)                                                                                         \n",
            "                                                                                                  \n",
            " concatenate (Concatenate)   (None, 32, 32, 1024)         0         ['conv2d_transpose[0][0]',    \n",
            "                                                                     'conv2d_7[0][0]']            \n",
            "                                                                                                  \n",
            " conv2d_10 (Conv2D)          (None, 32, 32, 512)          4719104   ['concatenate[0][0]']         \n",
            "                                                                                                  \n",
            " conv2d_11 (Conv2D)          (None, 32, 32, 512)          2359808   ['conv2d_10[0][0]']           \n",
            "                                                                                                  \n",
            " conv2d_transpose_1 (Conv2D  (None, 64, 64, 256)          1179904   ['conv2d_11[0][0]']           \n",
            " Transpose)                                                                                       \n",
            "                                                                                                  \n",
            " concatenate_1 (Concatenate  (None, 64, 64, 512)          0         ['conv2d_transpose_1[0][0]',  \n",
            " )                                                                   'conv2d_5[0][0]']            \n",
            "                                                                                                  \n",
            " conv2d_12 (Conv2D)          (None, 64, 64, 256)          1179904   ['concatenate_1[0][0]']       \n",
            "                                                                                                  \n",
            " conv2d_13 (Conv2D)          (None, 64, 64, 256)          590080    ['conv2d_12[0][0]']           \n",
            "                                                                                                  \n",
            " conv2d_transpose_2 (Conv2D  (None, 128, 128, 128)        295040    ['conv2d_13[0][0]']           \n",
            " Transpose)                                                                                       \n",
            "                                                                                                  \n",
            " concatenate_2 (Concatenate  (None, 128, 128, 256)        0         ['conv2d_transpose_2[0][0]',  \n",
            " )                                                                   'conv2d_3[0][0]']            \n",
            "                                                                                                  \n",
            " conv2d_14 (Conv2D)          (None, 128, 128, 128)        295040    ['concatenate_2[0][0]']       \n",
            "                                                                                                  \n",
            " conv2d_15 (Conv2D)          (None, 128, 128, 128)        147584    ['conv2d_14[0][0]']           \n",
            "                                                                                                  \n",
            " conv2d_transpose_3 (Conv2D  (None, 256, 256, 64)         73792     ['conv2d_15[0][0]']           \n",
            " Transpose)                                                                                       \n",
            "                                                                                                  \n",
            " concatenate_3 (Concatenate  (None, 256, 256, 128)        0         ['conv2d_transpose_3[0][0]',  \n",
            " )                                                                   'conv2d_1[0][0]']            \n",
            "                                                                                                  \n",
            " conv2d_16 (Conv2D)          (None, 256, 256, 64)         73792     ['concatenate_3[0][0]']       \n",
            "                                                                                                  \n",
            " conv2d_17 (Conv2D)          (None, 256, 256, 64)         36928     ['conv2d_16[0][0]']           \n",
            "                                                                                                  \n",
            " conv2d_18 (Conv2D)          (None, 256, 256, 1)          65        ['conv2d_17[0][0]']           \n",
            "                                                                                                  \n",
            "==================================================================================================\n",
            "Total params: 34513345 (131.66 MB)\n",
            "Trainable params: 34513345 (131.66 MB)\n",
            "Non-trainable params: 0 (0.00 Byte)\n",
            "__________________________________________________________________________________________________\n"
          ]
        }
      ]
    },
    {
      "cell_type": "code",
      "source": [
        "epochs = 25\n",
        "model.fit(train_dataset, epochs=epochs)"
      ],
      "metadata": {
        "colab": {
          "base_uri": "https://localhost:8080/"
        },
        "id": "U_9KsIKRhqp_",
        "outputId": "e8f359aa-9530-44cf-97af-f41cce3a4d2a"
      },
      "execution_count": 22,
      "outputs": [
        {
          "output_type": "stream",
          "name": "stdout",
          "text": [
            "Epoch 1/25\n",
            "51/51 [==============================] - 133s 2s/step - loss: 0.6942 - accuracy: 0.0830\n",
            "Epoch 2/25\n",
            "51/51 [==============================] - 76s 1s/step - loss: 0.5293 - accuracy: 0.0842\n",
            "Epoch 3/25\n",
            "51/51 [==============================] - 76s 1s/step - loss: 0.5265 - accuracy: 0.0842\n",
            "Epoch 4/25\n",
            "51/51 [==============================] - 76s 1s/step - loss: 0.5227 - accuracy: 0.0842\n",
            "Epoch 5/25\n",
            "51/51 [==============================] - 74s 1s/step - loss: 0.5246 - accuracy: 0.0842\n",
            "Epoch 6/25\n",
            "51/51 [==============================] - 75s 1s/step - loss: 0.5217 - accuracy: 0.0842\n",
            "Epoch 7/25\n",
            "51/51 [==============================] - 75s 1s/step - loss: 0.5192 - accuracy: 0.0840\n",
            "Epoch 8/25\n",
            "51/51 [==============================] - 76s 1s/step - loss: 0.5193 - accuracy: 0.0839\n",
            "Epoch 9/25\n",
            "51/51 [==============================] - 75s 1s/step - loss: 0.5179 - accuracy: 0.0841\n",
            "Epoch 10/25\n",
            "51/51 [==============================] - 76s 1s/step - loss: 0.5289 - accuracy: 0.0839\n",
            "Epoch 11/25\n",
            "51/51 [==============================] - 76s 1s/step - loss: 0.5204 - accuracy: 0.0842\n",
            "Epoch 12/25\n",
            "51/51 [==============================] - 74s 1s/step - loss: 0.5176 - accuracy: 0.0841\n",
            "Epoch 13/25\n",
            "51/51 [==============================] - 75s 1s/step - loss: 0.5193 - accuracy: 0.0840\n",
            "Epoch 14/25\n",
            "51/51 [==============================] - 76s 1s/step - loss: 0.5189 - accuracy: 0.0841\n",
            "Epoch 15/25\n",
            "51/51 [==============================] - 73s 1s/step - loss: 0.5177 - accuracy: 0.0839\n",
            "Epoch 16/25\n",
            "51/51 [==============================] - 74s 1s/step - loss: 0.5168 - accuracy: 0.0840\n",
            "Epoch 17/25\n",
            "51/51 [==============================] - 75s 1s/step - loss: 0.5171 - accuracy: 0.0841\n",
            "Epoch 18/25\n",
            "51/51 [==============================] - 75s 1s/step - loss: 0.5200 - accuracy: 0.0842\n",
            "Epoch 19/25\n",
            "51/51 [==============================] - 74s 1s/step - loss: 0.5161 - accuracy: 0.0841\n",
            "Epoch 20/25\n",
            "51/51 [==============================] - 75s 1s/step - loss: 0.5155 - accuracy: 0.0841\n",
            "Epoch 21/25\n",
            "51/51 [==============================] - 75s 1s/step - loss: 0.5237 - accuracy: 0.0841\n",
            "Epoch 22/25\n",
            "51/51 [==============================] - 74s 1s/step - loss: 0.5201 - accuracy: 0.0841\n",
            "Epoch 23/25\n",
            "51/51 [==============================] - 75s 1s/step - loss: 0.5189 - accuracy: 0.0839\n",
            "Epoch 24/25\n",
            "51/51 [==============================] - 74s 1s/step - loss: 0.5174 - accuracy: 0.0839\n",
            "Epoch 25/25\n",
            "51/51 [==============================] - 75s 1s/step - loss: 0.5163 - accuracy: 0.0839\n"
          ]
        },
        {
          "output_type": "execute_result",
          "data": {
            "text/plain": [
              "<keras.src.callbacks.History at 0x7d8f1d9577f0>"
            ]
          },
          "metadata": {},
          "execution_count": 22
        }
      ]
    }
  ]
}